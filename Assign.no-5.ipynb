{
 "cells": [
  {
   "cell_type": "code",
   "execution_count": 1,
   "id": "d4c71020",
   "metadata": {},
   "outputs": [
    {
     "data": {
      "text/plain": [
       "35"
      ]
     },
     "execution_count": 1,
     "metadata": {},
     "output_type": "execute_result"
    }
   ],
   "source": [
    "#Challenge 1: Square Numbers and Return Their Sum\n",
    "class point:\n",
    "    def __init__(self,x,y,z):\n",
    "        self.x=x\n",
    "        self.y=y\n",
    "        self.z=z\n",
    "    def sqsum(self):\n",
    "        return ((self.x**2)+(self.y**2)+(self.z**2))\n",
    "res=point(1,3,5) \n",
    "res.sqsum()"
   ]
  },
  {
   "cell_type": "code",
   "execution_count": 1,
   "id": "a68b3a18",
   "metadata": {},
   "outputs": [
    {
     "name": "stdout",
     "output_type": "stream",
     "text": [
      "104\n",
      "84\n",
      "940\n",
      "9.4\n"
     ]
    }
   ],
   "source": [
    "#Challenge 2:Implement a Calculator Class\n",
    "class Calculator:\n",
    "\n",
    "    def __init__(self,num1,num2):\n",
    "        self.num1=num1\n",
    "        self.num2=num2\n",
    "    def add(self):\n",
    "        return self.num1+self.num2\n",
    "    def subtract(self):\n",
    "        return self.num2-self.num1\n",
    "    def multiply(self):\n",
    "        return self.num1*self.num2\n",
    "    def divide(self):\n",
    "        return self.num2/self.num1\n",
    "obj = Calculator(10, 94)\n",
    "print(obj.add())\n",
    "print(obj.subtract())\n",
    "print(obj.multiply())\n",
    "print(obj.divide())   \n",
    "    "
   ]
  },
  {
   "cell_type": "code",
   "execution_count": 1,
   "id": "a03c6f91",
   "metadata": {},
   "outputs": [
    {
     "name": "stdout",
     "output_type": "stream",
     "text": [
      "kaushik\n",
      "100\n"
     ]
    }
   ],
   "source": [
    "# Challenge 3: Implement the Complete Student Class\n",
    "class Student:\n",
    "    def setName(self,name):\n",
    "        self.__name=name\n",
    "    def getName(self):\n",
    "        return self.__name\n",
    "    def setRollNumber(self,rollno):\n",
    "        self.__rollno=rollno\n",
    "    def getRollNumber(self):\n",
    "        return self.__rollno\n",
    "s=Student()\n",
    "s.setName(\"kaushik\")\n",
    "print(s.getName())\n",
    "s.setRollNumber(100)\n",
    "print(s.getRollNumber())"
   ]
  },
  {
   "cell_type": "code",
   "execution_count": 2,
   "id": "0f303ef9",
   "metadata": {},
   "outputs": [
    {
     "name": "stdout",
     "output_type": "stream",
     "text": [
      "2500\n",
      "1500\n",
      "100.0\n"
     ]
    }
   ],
   "source": [
    "# Challenge 5: Handling a Bank Account\n",
    "class Account:\n",
    "    def __init__(self, title, balance):\n",
    "        self.title = title\n",
    "        self.balance = balance\n",
    "    \n",
    "    def withdrawal(self, amount):\n",
    "        self.balance=self.balance - amount\n",
    "        \n",
    "    \n",
    "    def deposit(self, amount):\n",
    "        self.balance=self.balance + amount \n",
    "       \n",
    "    def getBalance(self):\n",
    "        return self.balance\n",
    "\n",
    "class SavingsAccount(Account):\n",
    "    def __init__(self, title=None, balance=0, interestRate=0):\n",
    "            super().__init__(title, balance)\n",
    "            self.interestRate = interestRate\n",
    "    \n",
    "    def interestAmount(self):\n",
    "        return (self.balance*self.interestRate)/100\n",
    "Ad=SavingsAccount(\"Ashish\",2000)\n",
    "Ad.deposit(500)\n",
    "Ad.getBalance()\n",
    "print(Ad.getBalance())\n",
    "\n",
    "Aw=SavingsAccount(\"Ashish\",2000)\n",
    "Aw.withdrawal(500)\n",
    "Aw.getBalance()\n",
    "print(Aw.getBalance())\n",
    "\n",
    "Si=SavingsAccount(\"Ashish\",2000,5)\n",
    "print(Si.interestAmount())"
   ]
  },
  {
   "cell_type": "code",
   "execution_count": null,
   "id": "a2998f6e",
   "metadata": {},
   "outputs": [],
   "source": []
  }
 ],
 "metadata": {
  "kernelspec": {
   "display_name": "Python 3 (ipykernel)",
   "language": "python",
   "name": "python3"
  },
  "language_info": {
   "codemirror_mode": {
    "name": "ipython",
    "version": 3
   },
   "file_extension": ".py",
   "mimetype": "text/x-python",
   "name": "python",
   "nbconvert_exporter": "python",
   "pygments_lexer": "ipython3",
   "version": "3.9.12"
  }
 },
 "nbformat": 4,
 "nbformat_minor": 5
}
